{
 "cells": [
  {
   "cell_type": "code",
   "execution_count": 2,
   "metadata": {
    "collapsed": true
   },
   "outputs": [],
   "source": [
    "from os import getcwd, path\n",
    "import pandas as pd"
   ]
  },
  {
   "cell_type": "code",
   "execution_count": 3,
   "metadata": {
    "collapsed": true
   },
   "outputs": [],
   "source": [
    "url = 'https://raw.githubusercontent.com/gcyuan/SCUBA/master/sample_data/guo2010/guo2010Data.txt'\n",
    "df = pd.read_csv(url, delimiter='\\t')"
   ]
  },
  {
   "cell_type": "code",
   "execution_count": 4,
   "metadata": {
    "collapsed": false
   },
   "outputs": [
    {
     "data": {
      "text/html": [
       "<div>\n",
       "<table border=\"1\" class=\"dataframe\">\n",
       "  <thead>\n",
       "    <tr style=\"text-align: right;\">\n",
       "      <th></th>\n",
       "      <th>Cell ID</th>\n",
       "      <th>1C 1</th>\n",
       "      <th>1C 2</th>\n",
       "      <th>1C 3</th>\n",
       "      <th>1C 4</th>\n",
       "      <th>1C 5</th>\n",
       "      <th>1C 6</th>\n",
       "      <th>1C 7</th>\n",
       "      <th>1C 8</th>\n",
       "      <th>1C 9</th>\n",
       "      <th>...</th>\n",
       "      <th>64C 7.5</th>\n",
       "      <th>64C 7.6</th>\n",
       "      <th>64C 7.7</th>\n",
       "      <th>64C 7.8</th>\n",
       "      <th>64C 7.9</th>\n",
       "      <th>64C 7.10</th>\n",
       "      <th>64C 7.11</th>\n",
       "      <th>64C 7.12</th>\n",
       "      <th>64C 7.13</th>\n",
       "      <th>64C 7.14</th>\n",
       "    </tr>\n",
       "  </thead>\n",
       "  <tbody>\n",
       "    <tr>\n",
       "      <th>0</th>\n",
       "      <td>Stage</td>\n",
       "      <td>1.00</td>\n",
       "      <td>1.00</td>\n",
       "      <td>1.00</td>\n",
       "      <td>1.00</td>\n",
       "      <td>1.00</td>\n",
       "      <td>1.00</td>\n",
       "      <td>1.00</td>\n",
       "      <td>1.00</td>\n",
       "      <td>1.00</td>\n",
       "      <td>...</td>\n",
       "      <td>7.00</td>\n",
       "      <td>7.00</td>\n",
       "      <td>7.00</td>\n",
       "      <td>7.00</td>\n",
       "      <td>7.00</td>\n",
       "      <td>7.00</td>\n",
       "      <td>7.00</td>\n",
       "      <td>7.00</td>\n",
       "      <td>7.00</td>\n",
       "      <td>7.00</td>\n",
       "    </tr>\n",
       "    <tr>\n",
       "      <th>1</th>\n",
       "      <td>Actb</td>\n",
       "      <td>14.01</td>\n",
       "      <td>13.68</td>\n",
       "      <td>13.42</td>\n",
       "      <td>13.69</td>\n",
       "      <td>13.47</td>\n",
       "      <td>12.86</td>\n",
       "      <td>12.95</td>\n",
       "      <td>12.77</td>\n",
       "      <td>13.29</td>\n",
       "      <td>...</td>\n",
       "      <td>14.86</td>\n",
       "      <td>14.77</td>\n",
       "      <td>15.04</td>\n",
       "      <td>15.80</td>\n",
       "      <td>14.81</td>\n",
       "      <td>13.32</td>\n",
       "      <td>12.60</td>\n",
       "      <td>12.75</td>\n",
       "      <td>13.66</td>\n",
       "      <td>13.78</td>\n",
       "    </tr>\n",
       "    <tr>\n",
       "      <th>2</th>\n",
       "      <td>Ahcy</td>\n",
       "      <td>19.28</td>\n",
       "      <td>18.56</td>\n",
       "      <td>18.19</td>\n",
       "      <td>18.59</td>\n",
       "      <td>18.60</td>\n",
       "      <td>17.37</td>\n",
       "      <td>17.37</td>\n",
       "      <td>18.40</td>\n",
       "      <td>18.26</td>\n",
       "      <td>...</td>\n",
       "      <td>22.20</td>\n",
       "      <td>21.21</td>\n",
       "      <td>21.67</td>\n",
       "      <td>22.12</td>\n",
       "      <td>21.93</td>\n",
       "      <td>23.22</td>\n",
       "      <td>23.35</td>\n",
       "      <td>22.73</td>\n",
       "      <td>25.26</td>\n",
       "      <td>25.46</td>\n",
       "    </tr>\n",
       "    <tr>\n",
       "      <th>3</th>\n",
       "      <td>Aqp3</td>\n",
       "      <td>23.89</td>\n",
       "      <td>28.00</td>\n",
       "      <td>26.18</td>\n",
       "      <td>28.00</td>\n",
       "      <td>24.20</td>\n",
       "      <td>25.53</td>\n",
       "      <td>23.93</td>\n",
       "      <td>23.68</td>\n",
       "      <td>28.00</td>\n",
       "      <td>...</td>\n",
       "      <td>28.00</td>\n",
       "      <td>28.00</td>\n",
       "      <td>28.00</td>\n",
       "      <td>21.75</td>\n",
       "      <td>21.20</td>\n",
       "      <td>19.76</td>\n",
       "      <td>18.01</td>\n",
       "      <td>20.27</td>\n",
       "      <td>20.39</td>\n",
       "      <td>20.79</td>\n",
       "    </tr>\n",
       "    <tr>\n",
       "      <th>4</th>\n",
       "      <td>Atp12a</td>\n",
       "      <td>28.00</td>\n",
       "      <td>28.00</td>\n",
       "      <td>28.00</td>\n",
       "      <td>28.00</td>\n",
       "      <td>28.00</td>\n",
       "      <td>28.00</td>\n",
       "      <td>28.00</td>\n",
       "      <td>28.00</td>\n",
       "      <td>28.00</td>\n",
       "      <td>...</td>\n",
       "      <td>28.00</td>\n",
       "      <td>28.00</td>\n",
       "      <td>28.00</td>\n",
       "      <td>28.00</td>\n",
       "      <td>28.00</td>\n",
       "      <td>22.13</td>\n",
       "      <td>21.64</td>\n",
       "      <td>28.00</td>\n",
       "      <td>22.19</td>\n",
       "      <td>23.12</td>\n",
       "    </tr>\n",
       "  </tbody>\n",
       "</table>\n",
       "<p>5 rows × 439 columns</p>\n",
       "</div>"
      ],
      "text/plain": [
       "  Cell ID   1C 1   1C 2   1C 3   1C 4   1C 5   1C 6   1C 7   1C 8   1C 9  \\\n",
       "0   Stage   1.00   1.00   1.00   1.00   1.00   1.00   1.00   1.00   1.00   \n",
       "1    Actb  14.01  13.68  13.42  13.69  13.47  12.86  12.95  12.77  13.29   \n",
       "2    Ahcy  19.28  18.56  18.19  18.59  18.60  17.37  17.37  18.40  18.26   \n",
       "3    Aqp3  23.89  28.00  26.18  28.00  24.20  25.53  23.93  23.68  28.00   \n",
       "4  Atp12a  28.00  28.00  28.00  28.00  28.00  28.00  28.00  28.00  28.00   \n",
       "\n",
       "     ...     64C 7.5  64C 7.6  64C 7.7  64C 7.8  64C 7.9  64C 7.10  64C 7.11  \\\n",
       "0    ...        7.00     7.00     7.00     7.00     7.00      7.00      7.00   \n",
       "1    ...       14.86    14.77    15.04    15.80    14.81     13.32     12.60   \n",
       "2    ...       22.20    21.21    21.67    22.12    21.93     23.22     23.35   \n",
       "3    ...       28.00    28.00    28.00    21.75    21.20     19.76     18.01   \n",
       "4    ...       28.00    28.00    28.00    28.00    28.00     22.13     21.64   \n",
       "\n",
       "   64C 7.12  64C 7.13  64C 7.14  \n",
       "0      7.00      7.00      7.00  \n",
       "1     12.75     13.66     13.78  \n",
       "2     22.73     25.26     25.46  \n",
       "3     20.27     20.39     20.79  \n",
       "4     28.00     22.19     23.12  \n",
       "\n",
       "[5 rows x 439 columns]"
      ]
     },
     "execution_count": 4,
     "metadata": {},
     "output_type": "execute_result"
    }
   ],
   "source": [
    "df.head()"
   ]
  },
  {
   "cell_type": "code",
   "execution_count": 6,
   "metadata": {
    "collapsed": true
   },
   "outputs": [],
   "source": [
    "df.to_csv(path.join(getcwd(), 'super_duper_data.txt'), sep='\\t', index=False)"
   ]
  },
  {
   "cell_type": "code",
   "execution_count": 8,
   "metadata": {
    "collapsed": false
   },
   "outputs": [
    {
     "data": {
      "text/plain": [
       "(49, 439)"
      ]
     },
     "execution_count": 8,
     "metadata": {},
     "output_type": "execute_result"
    }
   ],
   "source": [
    "df.shape"
   ]
  }
 ],
 "metadata": {
  "anaconda-cloud": {},
  "kernelspec": {
   "display_name": "Python [Root]",
   "language": "python",
   "name": "Python [Root]"
  },
  "language_info": {
   "codemirror_mode": {
    "name": "ipython",
    "version": 3
   },
   "file_extension": ".py",
   "mimetype": "text/x-python",
   "name": "python",
   "nbconvert_exporter": "python",
   "pygments_lexer": "ipython3",
   "version": "3.5.2"
  }
 },
 "nbformat": 4,
 "nbformat_minor": 0
}
